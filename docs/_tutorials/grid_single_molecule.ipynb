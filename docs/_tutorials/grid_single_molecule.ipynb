{
 "cells": [
  {
   "cell_type": "code",
   "execution_count": 1,
   "id": "621ac272",
   "metadata": {},
   "outputs": [],
   "source": [
    "import torch\n",
    "import molgrid\n",
    "from molgrid.openbabel import pybel as pybel"
   ]
  },
  {
   "cell_type": "code",
   "execution_count": 2,
   "id": "945dc357",
   "metadata": {},
   "outputs": [],
   "source": [
    "sdf = '''lig.pdb\n",
    "\n",
    "\n",
    " 28 31  0  0  0  0  0  0  0  0999 V2000\n",
    "  -12.3750   15.6630   41.2650 C   0  0  0  0  0  0  0  0  0  0  0  0\n",
    "  -13.2610   14.3660   39.8260 C   0  0  0  0  0  0  0  0  0  0  0  0\n",
    "  -14.1090   14.4140   41.0570 C   0  0  0  0  0  0  0  0  0  0  0  0\n",
    "  -13.4740   15.2840   42.0050 N   0  0  0  0  0  0  0  0  0  0  0  0\n",
    "  -12.1510   15.2100   40.0160 N   0  0  0  0  0  0  0  0  0  0  0  0\n",
    "  -16.6176   14.1407   40.7369 C   0  0  0  0  0  0  0  0  0  0  0  0\n",
    "  -15.3520   13.6930   41.3060 C   0  0  0  0  0  0  0  0  0  0  0  0\n",
    "  -16.4718   11.9054   42.3009 C   0  0  0  0  0  0  0  0  0  0  0  0\n",
    "  -17.7694   13.3442   41.0488 C   0  0  0  0  0  0  0  0  0  0  0  0\n",
    "  -15.3321   12.5656   42.0833 N   0  0  0  0  0  0  0  0  0  0  0  0\n",
    "  -17.6782   12.2407   41.8231 N   0  0  0  0  0  0  0  0  0  0  0  0\n",
    "  -16.3982   10.8282   43.0485 N   0  0  0  0  0  0  0  0  0  0  0  0\n",
    "  -17.2100   10.3051   43.2395 H   0  0  0  0  0  0  0  0  0  0  0  0\n",
    "  -15.5311   10.5438   43.4180 H   0  0  0  0  0  0  0  0  0  0  0  0\n",
    "  -13.2773   14.5917   44.3887 C   0  0  0  0  0  0  0  0  0  0  0  0\n",
    "  -13.5557   14.9516   45.8687 C   0  0  0  0  0  0  0  0  0  0  0  0\n",
    "  -13.4526   17.4692   45.3119 C   0  0  0  0  0  0  0  0  0  0  0  0\n",
    "  -13.2634   17.1035   43.8042 C   0  0  0  0  0  0  0  0  0  0  0  0\n",
    "  -13.8090   15.6920   43.4140 C   0  0  0  0  0  0  0  0  0  0  0  0\n",
    "  -13.0728   16.3354   46.2392 N   0  0  0  0  0  0  0  0  0  0  0  0\n",
    "  -12.0543   16.3036   46.2844 H   0  0  0  0  0  0  0  0  0  0  0  0\n",
    "  -14.2602   13.6411   37.6205 C   0  0  0  0  0  0  0  0  0  0  0  0\n",
    "  -14.2997   12.7333   36.5337 C   0  0  0  0  0  0  0  0  0  0  0  0\n",
    "  -13.4040   11.6421   36.4989 C   0  0  0  0  0  0  0  0  0  0  0  0\n",
    "  -12.4709   11.4518   37.5318 C   0  0  0  0  0  0  0  0  0  0  0  0\n",
    "  -12.4272   12.3524   38.6174 C   0  0  0  0  0  0  0  0  0  0  0  0\n",
    "  -13.3220   13.4750   38.6950 C   0  0  0  0  0  0  0  0  0  0  0  0\n",
    "  -13.4377   10.7705   35.4697 F   0  0  0  0  0  0  0  0  0  0  0  0\n",
    " 15 16  1  0  0  0\n",
    " 15 19  1  0  0  0\n",
    " 16 20  1  0  0  0\n",
    " 17 18  1  0  0  0\n",
    " 17 20  1  0  0  0\n",
    " 18 19  1  0  0  0\n",
    " 19  4  1  0  0  0\n",
    " 22 23  2  0  0  0\n",
    " 22 27  1  0  0  0\n",
    " 23 24  1  0  0  0\n",
    " 24 25  2  0  0  0\n",
    " 24 28  1  0  0  0\n",
    " 25 26  1  0  0  0\n",
    " 26 27  2  0  0  0\n",
    " 27  2  1  0  0  0\n",
    "  1  5  2  0  0  0\n",
    "  1  4  1  0  0  0\n",
    "  2  3  2  0  0  0\n",
    "  2  5  1  0  0  0\n",
    "  3  4  1  0  0  0\n",
    "  3  7  1  0  0  0\n",
    "  6  7  2  0  0  0\n",
    "  6  9  1  0  0  0\n",
    "  7 10  1  0  0  0\n",
    "  8 11  1  0  0  0\n",
    "  8 12  1  0  0  0\n",
    "  8 10  2  0  0  0\n",
    "  9 11  2  0  0  0\n",
    " 20 21  1  0  0  0\n",
    " 12 13  1  0  0  0\n",
    " 12 14  1  0  0  0\n",
    "M  END\n",
    "> <minimizedAffinity>\n",
    "0.00000\n",
    "\n",
    "> <minimizedRMSD>\n",
    "0.64667\n",
    "\n",
    "$$$$'''"
   ]
  },
  {
   "cell_type": "markdown",
   "id": "6c349f3f",
   "metadata": {},
   "source": [
    "Create a CoordinateSet from a pybel molecule and use that to grid."
   ]
  },
  {
   "cell_type": "code",
   "execution_count": 3,
   "id": "f005a721",
   "metadata": {},
   "outputs": [],
   "source": [
    "mol = pybel.readstring('sdf',sdf)\n",
    "c = molgrid.CoordinateSet(mol)"
   ]
  },
  {
   "cell_type": "code",
   "execution_count": 4,
   "id": "fa52cf15",
   "metadata": {},
   "outputs": [],
   "source": [
    "gmaker = molgrid.GridMaker()\n",
    "dims = gmaker.grid_dimensions(molgrid.defaultGninaLigandTyper.num_types())\n",
    "gridtensor = torch.zeros(dims,dtype=torch.float32)"
   ]
  },
  {
   "cell_type": "code",
   "execution_count": 5,
   "id": "31469c70",
   "metadata": {},
   "outputs": [],
   "source": [
    "gmaker.forward(c.center(),c,gridtensor)"
   ]
  },
  {
   "cell_type": "code",
   "execution_count": 6,
   "id": "126f0ac6",
   "metadata": {},
   "outputs": [
    {
     "data": {
      "text/plain": [
       "<matplotlib.image.AxesImage at 0x7f165b1b2070>"
      ]
     },
     "execution_count": 6,
     "metadata": {},
     "output_type": "execute_result"
    },
    {
     "data": {
      "image/png": "[encoded data removed]",
      "text/plain": [
       "<Figure size 288x288 with 1 Axes>"
      ]
     },
     "metadata": {
      "needs_background": "light"
     },
     "output_type": "display_data"
    }
   ],
   "source": [
    "import matplotlib.pyplot as plt\n",
    "plt.matshow(gridtensor[0,24,:,:])"
   ]
  },
  {
   "cell_type": "code",
   "execution_count": 7,
   "id": "36d50548",
   "metadata": {},
   "outputs": [
    {
     "data": {
      "text/plain": [
       "<matplotlib.image.AxesImage at 0x7f165b09f1c0>"
      ]
     },
     "execution_count": 7,
     "metadata": {},
     "output_type": "execute_result"
    },
    {
     "data": {
      "image/png": "[encoded data removed]",
      "text/plain": [
       "<Figure size 288x288 with 1 Axes>"
      ]
     },
     "metadata": {
      "needs_background": "light"
     },
     "output_type": "display_data"
    }
   ],
   "source": [
    "plt.matshow(gridtensor[1,24,:,:])"
   ]
  }
 ],
 "metadata": {
  "kernelspec": {
   "display_name": "Python 3",
   "language": "python",
   "name": "python3"
  },
  "language_info": {
   "codemirror_mode": {
    "name": "ipython",
    "version": 3
   },
   "file_extension": ".py",
   "mimetype": "text/x-python",
   "name": "python",
   "nbconvert_exporter": "python",
   "pygments_lexer": "ipython3",
   "version": "3.8.10"
  }
 },
 "nbformat": 4,
 "nbformat_minor": 5
}
